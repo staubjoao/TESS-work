{
 "cells": [
  {
   "cell_type": "code",
   "execution_count": null,
   "metadata": {},
   "outputs": [],
   "source": [
    "from new_analyse import *\n",
    "\n",
    "COMMITS_DATA_PATH = \"../data/commits/*.json\"\n",
    "ISSUES_DATA_PATH = \"../data/issues/*.json\"\n",
    "CSV_FILE_PATH = \"../dataset/dataset_filtrado.csv\"\n",
    "PULL_FILES_DATA_PATH = \"../data/pull_request/*.json\""
   ]
  },
  {
   "cell_type": "code",
   "execution_count": null,
   "metadata": {},
   "outputs": [],
   "source": [
    "# Step 1: Load and preprocess commit data\n",
    "print(\"Loading commit data...\")\n",
    "commits_df = load_all_commits(COMMITS_DATA_PATH)\n",
    "print(f\"Total commits loaded: {len(commits_df)}\")"
   ]
  },
  {
   "cell_type": "code",
   "execution_count": null,
   "metadata": {},
   "outputs": [],
   "source": [
    "# Step 2: Enrich commit data with additional metrics\n",
    "print(\"Enriching commit data...\")\n",
    "commits_df = enrich_commit_data(commits_df)"
   ]
  },
  {
   "cell_type": "code",
   "execution_count": null,
   "metadata": {},
   "outputs": [],
   "source": [
    "# Step 3: Load and preprocess issue data\n",
    "print(\"Loading issue data...\")\n",
    "issues_df = load_all_issues(ISSUES_DATA_PATH)\n",
    "print(f\"Total issues loaded: {len(issues_df)}\")"
   ]
  },
  {
   "cell_type": "code",
   "execution_count": null,
   "metadata": {},
   "outputs": [],
   "source": [
    "# Step 4: Enrich issue data with additional metrics\n",
    "print(\"Enriching issue data...\")\n",
    "issues_df = enrich_issue_data(issues_df)\n",
    "# Filter issues with PRs\n",
    "issues_with_prs = issues_df.loc[issues_df[\"is_pull_request\"]]"
   ]
  },
  {
   "cell_type": "code",
   "execution_count": null,
   "metadata": {},
   "outputs": [],
   "source": [
    "# Step 5: Load and process CSV data\n",
    "print(\"Loading CSV data...\")\n",
    "csv_df = load_csv_data(CSV_FILE_PATH)\n",
    "print(f\"Total projects loaded from CSV: {len(csv_df)}\")\n",
    "\n",
    "print(\"Loading pull request data...\")\n",
    "prs_df = load_all_pull_requests(PULL_FILES_DATA_PATH)\n",
    "print(f\"Total pull requests loaded: {len(prs_df)}\")"
   ]
  },
  {
   "cell_type": "code",
   "execution_count": null,
   "metadata": {},
   "outputs": [],
   "source": [
    "# Step 6: Enrich CSV data\n",
    "print(\"Enriching CSV data...\")\n",
    "csv_df = enrich_csv_data_two_groups(csv_df)"
   ]
  },
  {
   "cell_type": "code",
   "execution_count": null,
   "metadata": {},
   "outputs": [],
   "source": [
    "# ---------------------------\n",
    "# CSV Data Analysis\n",
    "# ---------------------------\n",
    "\n",
    "# Analyze language usage\n",
    "print(\"Analyzing programming language usage...\")\n",
    "language_counts = analyze_language_usage(csv_df)\n",
    "plot_language_usage(language_counts)\n",
    "\n",
    "# Analyze microservice distribution\n",
    "print(\"Analyzing microservice distribution...\")\n",
    "microservice_counts = analyze_microservice_distribution(csv_df)\n",
    "plot_microservice_distribution(microservice_counts)\n",
    "\n",
    "analyze_language_usage(csv_df)"
   ]
  },
  {
   "cell_type": "code",
   "execution_count": null,
   "metadata": {},
   "outputs": [],
   "source": [
    "# ---------------------------\n",
    "# RQ1 Analysis\n",
    "# ---------------------------\n",
    "\n",
    "# RQ1.1: Is community engagement increasing?\n",
    "print(\"Analyzing community engagement over time...\")\n",
    "overall_commit_trends, repo_commit_trends = analyze_commit_trends(commits_df)\n",
    "plot_commit_trends_per_repo(overall_commit_trends, repo_commit_trends)\n",
    "\n",
    "# RQ1.2: Are there prominent authors or development teams?\n",
    "print(\"Identifying prominent authors...\")\n",
    "prominent_authors = identify_prominent_authors(commits_df)\n",
    "plot_prominent_authors(prominent_authors)\n",
    "\n",
    "# RQ1.3: Do authors contribute to multiple projects?\n",
    "print(\"Analyzing cross-project contributions...\")\n",
    "author_projects = analyze_author_cross_project_contributions(commits_df)\n",
    "plot_author_project_contributions(author_projects)"
   ]
  },
  {
   "cell_type": "code",
   "execution_count": null,
   "metadata": {},
   "outputs": [],
   "source": [
    "# ---------------------------\n",
    "# RQ2 Analysis\n",
    "# ---------------------------\n",
    "\n",
    "# RQ2.1: What is the average issue resolution time?\n",
    "print(\"Calculating average issue resolution time...\")\n",
    "avg_resolution_time = calculate_average_issue_resolution_time(issues_with_prs)\n",
    "print(f\"Average Issue Resolution Time: {avg_resolution_time:.2f} days\")\n",
    "plot_issue_resolution_time(issues_with_prs)\n",
    "print(\"Removing outliers...\")\n",
    "plot_issue_resolution_time(\n",
    "remove_outliers(issues_with_prs, \"resolution_time\", lower_percentile=0.05, upper_percentile=0.95)\n",
    ")\n",
    "# RQ2.3: Impact of PR size on issue resolution time\n",
    "print(\"Analyzing impact of PR size on issue resolution time...\")\n",
    "impact_df = impact_of_pr_size_on_resolution_time(issues_with_prs, prs_df)\n",
    "plot_pr_size_vs_resolution_time(impact_df)\n",
    "\n",
    "impact_df_no_outliers = remove_outliers(impact_df, \"resolution_time\", lower_percentile=0.05, upper_percentile=0.95)\n",
    "impact_df_no_outliers = remove_outliers(\n",
    "impact_df_no_outliers, \"total_changes\", lower_percentile=0.05, upper_percentile=0.95\n",
    ")\n",
    "\n",
    "# Plot without outliers\n",
    "print(\"Plotting PR size vs. resolution time (without outliers)...\")\n",
    "plot_pr_size_vs_resolution_time(impact_df_no_outliers)\n",
    "\n",
    "# RQ2.4: Impact of Contributors size on issue resolution time\n",
    "plot_contributor_count_vs_resolution_time(issues_with_prs)\n",
    "\n",
    "# RQ2.5: Proportion of issues that are PRs\n",
    "print(\"Calculating proportion of issues that are PRs...\")\n",
    "pr_issue_proportion = calculate_pr_issue_proportion(issues_df)\n",
    "print(f\"Proportion of Issues that are PRs: {pr_issue_proportion:.2%}\")\n",
    "\n",
    "# RQ2.6: Is there a statistical difference between issue closure times with repository microservice size?\n",
    "print(\"Analyzing issue resolution time by microservice size...\")\n",
    "average_df = analyze_issue_resolution_time_by_microservice_size(issues_with_prs, csv_df)\n",
    "plot_service_numbers_vs_resolution_time(average_df)"
   ]
  }
 ],
 "metadata": {
  "kernelspec": {
   "display_name": "Python 3",
   "language": "python",
   "name": "python3"
  },
  "language_info": {
   "codemirror_mode": {
    "name": "ipython",
    "version": 3
   },
   "file_extension": ".py",
   "mimetype": "text/x-python",
   "name": "python",
   "nbconvert_exporter": "python",
   "pygments_lexer": "ipython3",
   "version": "3.10.12"
  }
 },
 "nbformat": 4,
 "nbformat_minor": 2
}
