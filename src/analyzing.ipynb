{
 "cells": [
  {
   "cell_type": "code",
   "execution_count": 14,
   "metadata": {},
   "outputs": [],
   "source": [
    "import pandas as pd\n",
    "import os\n",
    "import requests\n",
    "import json\n",
    "import numpy as np\n",
    "import statistics"
   ]
  },
  {
   "cell_type": "code",
   "execution_count": 5,
   "metadata": {},
   "outputs": [],
   "source": [
    "df = pd.read_csv(\"../dataset/dataset_filtrado.csv\", delimiter=';')"
   ]
  },
  {
   "cell_type": "code",
   "execution_count": 11,
   "metadata": {},
   "outputs": [],
   "source": [
    "number_commits = []\n",
    "number_issues = []\n",
    "\n",
    "for index, row in df.iterrows():\n",
    "    urlRepo = row['URL']\n",
    "\n",
    "    parts = urlRepo.split('https://github.com/')[1].split('/')\n",
    "    owner = parts[0]\n",
    "    repo = parts[1]\n",
    "\n",
    "    path_commits = f'../data/commits/commits_{owner}_{repo}.json'\n",
    "    \n",
    "    with open(path_commits, 'r') as f:\n",
    "        data_commits = json.load(f)\n",
    "\n",
    "    number_commits.append(len(data_commits))\n",
    "\n",
    "    path_issues = f'../data/issues/closed_issues_{owner}_{repo}.json'\n",
    "\n",
    "    with open(path_issues, 'r') as f:\n",
    "        data_issues = json.load(f)\n",
    "\n",
    "    number_issues.append(len(data_issues))"
   ]
  },
  {
   "cell_type": "code",
   "execution_count": 15,
   "metadata": {},
   "outputs": [
    {
     "name": "stdout",
     "output_type": "stream",
     "text": [
      "Commits - Média: 11556.181818181818, Mediana: 6969, Desvio Padrão: 10105.038761114989\n",
      "Issues - Média: 6399.181818181818, Mediana: 5670, Desvio Padrão: 4210.69706386441\n"
     ]
    }
   ],
   "source": [
    "media_commits = statistics.mean(number_commits)\n",
    "mediana_commits = statistics.median(number_commits)\n",
    "dp_commits = statistics.stdev(number_commits)\n",
    "\n",
    "media_issues = statistics.mean(number_issues)\n",
    "mediana_issues = statistics.median(number_issues)\n",
    "dp_issues = statistics.stdev(number_issues)\n",
    "\n",
    "print(f'Commits - Média: {media_commits}, Mediana: {mediana_commits}, Desvio Padrão: {dp_commits}')\n",
    "print(f'Issues - Média: {media_issues}, Mediana: {mediana_issues}, Desvio Padrão: {dp_issues}')\n"
   ]
  }
 ],
 "metadata": {
  "kernelspec": {
   "display_name": "Python 3",
   "language": "python",
   "name": "python3"
  },
  "language_info": {
   "codemirror_mode": {
    "name": "ipython",
    "version": 3
   },
   "file_extension": ".py",
   "mimetype": "text/x-python",
   "name": "python",
   "nbconvert_exporter": "python",
   "pygments_lexer": "ipython3",
   "version": "3.12.6"
  }
 },
 "nbformat": 4,
 "nbformat_minor": 2
}
