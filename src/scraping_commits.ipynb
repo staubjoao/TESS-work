{
 "cells": [
  {
   "cell_type": "code",
   "execution_count": 9,
   "metadata": {},
   "outputs": [],
   "source": [
    "import pandas as pd\n",
    "from dotenv import load_dotenv\n",
    "import os\n",
    "import requests\n",
    "import json\n",
    "import numpy as np\n",
    "import asyncio"
   ]
  },
  {
   "cell_type": "code",
   "execution_count": 19,
   "metadata": {},
   "outputs": [
    {
     "name": "stdout",
     "output_type": "stream",
     "text": [
      "Diretório '../data/commits' já existe.\n"
     ]
    }
   ],
   "source": [
    "diretorio = \"../data/commits\"\n",
    "\n",
    "if not os.path.exists(diretorio):\n",
    "    os.makedirs(diretorio)\n",
    "    print(f\"Diretório '{diretorio}' criado com sucesso.\")\n",
    "else:\n",
    "    print(f\"Diretório '{diretorio}' já existe.\")\n",
    "\n",
    "load_dotenv()\n",
    "\n",
    "token1 = os.getenv('TOKEN1')\n",
    "token2 = os.getenv('TOKEN2')\n",
    "token3 = os.getenv('TOKEN3')\n",
    "token4 = os.getenv('TOKEN4')\n",
    "\n",
    "list_tokens = [token1, token2, token3, token4]\n",
    "\n",
    "index_list_token = 0\n",
    "\n",
    "df = pd.read_csv(\"../dataset/dataset_filtrado.csv\", delimiter=';')\n",
    "\n",
    "api_call = 1\n",
    "\n",
    "def get_paginated_data(url):\n",
    "    global api_call\n",
    "    global index_list_token\n",
    "    global list_tokens\n",
    "\n",
    "    data = []\n",
    "    while url:\n",
    "        if api_call >= 4998:\n",
    "            api_call = 1\n",
    "            index_list_token += 1\n",
    "            if index_list_token > len(list_tokens):\n",
    "                index_list_token = 0\n",
    "                timeout = 3600\n",
    "                asyncio.sleep(timeout)\n",
    "\n",
    "        headers = {\n",
    "            \"Accept\": \"application/vnd.github+json\",\n",
    "            \"Authorization\": f\"Bearer {list_tokens[index_list_token]}\",\n",
    "            \"X-GitHub-Api-Version\": \"2022-11-28\"\n",
    "        }\n",
    "        print(api_call, end=\", \")\n",
    "        response = requests.get(url, headers=headers)\n",
    "\n",
    "        if response.status_code == 200:\n",
    "            response_data = response.json()\n",
    "            data.extend(parse_data(response_data))\n",
    "\n",
    "            link_header = response.headers.get('Link')\n",
    "            if link_header and 'rel=\"next\"' in link_header:\n",
    "                next_url = [url_part.split(\";\")[0].strip().strip(\"<>\")\n",
    "                            for url_part in link_header.split(\",\")\n",
    "                            if 'rel=\"next\"' in url_part]\n",
    "                url = next_url[0] if next_url else None\n",
    "            else:\n",
    "                url = None\n",
    "        else:\n",
    "            print(f\"Erro: {response.status_code}, {response.text}\")\n",
    "            break\n",
    "        api_call = api_call + 1\n",
    "    return data\n",
    "\n",
    "\n",
    "def parse_data(response_data):\n",
    "    if isinstance(response_data, list):\n",
    "        return response_data\n",
    "    elif isinstance(response_data, dict):\n",
    "        namespace_key = list(response_data.keys())[0]\n",
    "        return response_data[namespace_key]\n",
    "    return []\n",
    "\n",
    "\n",
    "def save_data_to_json(data, filename=\"data.json\"):\n",
    "    with open(filename, \"w\") as json_file:\n",
    "        json.dump(data, json_file, indent=4)"
   ]
  },
  {
   "cell_type": "code",
   "execution_count": null,
   "metadata": {},
   "outputs": [],
   "source": [
    "for url in df['URL']:\n",
    "\n",
    "    parts = url.split('https://github.com/')[1].split('/')\n",
    "\n",
    "    owner = parts[0]\n",
    "    repo = parts[1]\n",
    "\n",
    "    url_final = f\"https://api.github.com/repos/{owner}/{repo}/commits\"\n",
    "\n",
    "    print(url_final)\n",
    "\n",
    "    data = get_paginated_data(url_final)\n",
    "\n",
    "    filename = f\"../data/commits/commits_{owner}_{repo}.json\"\n",
    "\n",
    "    save_data_to_json(data, filename)    \n",
    "\n",
    "    print() # apenas para formatar a saida"
   ]
  }
 ],
 "metadata": {
  "kernelspec": {
   "display_name": "Python 3",
   "language": "python",
   "name": "python3"
  },
  "language_info": {
   "codemirror_mode": {
    "name": "ipython",
    "version": 3
   },
   "file_extension": ".py",
   "mimetype": "text/x-python",
   "name": "python",
   "nbconvert_exporter": "python",
   "pygments_lexer": "ipython3",
   "version": "3.12.5"
  }
 },
 "nbformat": 4,
 "nbformat_minor": 2
}
