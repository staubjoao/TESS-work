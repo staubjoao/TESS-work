{
 "cells": [
  {
   "cell_type": "code",
   "execution_count": 1,
   "metadata": {},
   "outputs": [],
   "source": [
    "import os\n",
    "import pandas as pd\n",
    "import json\n",
    "from glob import glob\n",
    "from datetime import datetime"
   ]
  },
  {
   "cell_type": "code",
   "execution_count": 2,
   "metadata": {},
   "outputs": [],
   "source": [
    "def load_json_data(file_path):\n",
    "    \"\"\"Helper function to load a JSON file.\"\"\"\n",
    "    with open(file_path, 'r', encoding='utf-8') as file:\n",
    "        return json.load(file)\n",
    "\n",
    "def load_issues(file_path_issues, file_path_prs):\n",
    "    all_issues = []\n",
    "    \n",
    "    prs = load_json_data(file_path_prs)\n",
    "    prs_dict = {pr[\"number\"]: pr for pr in prs} \n",
    "\n",
    "    repo_name = os.path.splitext(os.path.basename(file_path_issues))[0]\n",
    "    data = load_json_data(file_path_issues)\n",
    "    \n",
    "    for issue in data:\n",
    "        is_pull_request = \"pull_request\" in issue\n",
    "\n",
    "        closed_at = datetime.strptime(issue[\"closed_at\"], \"%Y-%m-%dT%H:%M:%SZ\") if issue.get(\"closed_at\") else None\n",
    "\n",
    "        pr_data = {}\n",
    "        if issue.get(\"pull_request\"):\n",
    "            pr_number = issue[\"number\"]\n",
    "            pr = prs_dict.get(pr_number)\n",
    "            if pr:\n",
    "                pr_data = {\n",
    "                    \"pr_commits\": pr.get(\"commits\", 0),\n",
    "                    \"pr_additions\": pr.get(\"additions\", 0),\n",
    "                    \"pr_deletions\": pr.get(\"deletions\", 0),\n",
    "                    \"pr_changed_files\": pr.get(\"changed_files\", 0),\n",
    "                }\n",
    "        \n",
    "        issue_data = {\n",
    "            \"repo_name\": repo_name,\n",
    "            \"issue_number\": issue[\"number\"],\n",
    "            \"title\": issue[\"title\"],\n",
    "            \"user\": issue[\"user\"][\"login\"] if issue.get(\"user\") else None,\n",
    "            \"state\": issue[\"state\"],\n",
    "            \"created_at\": datetime.strptime(issue[\"created_at\"], \"%Y-%m-%dT%H:%M:%SZ\"),\n",
    "            \"closed_at\": closed_at,\n",
    "            \"labels\": issue.get(\"labels\", []),\n",
    "            \"is_pull_request\": is_pull_request,\n",
    "            \"comments\": issue.get(\"comments\", 0),\n",
    "            \"body\": issue.get(\"body\", \"\"),\n",
    "            # # Add PR data if exists\n",
    "            # **pr_data\n",
    "        }\n",
    "        all_issues.append(issue_data)\n",
    "    \n",
    "    issues_df = pd.DataFrame(all_issues)\n",
    "    return issues_df\n"
   ]
  },
  {
   "cell_type": "code",
   "execution_count": 4,
   "metadata": {},
   "outputs": [],
   "source": [
    "df = pd.read_csv(\"../dataset/dataset_filtrado.csv\", delimiter=';')"
   ]
  },
  {
   "cell_type": "code",
   "execution_count": null,
   "metadata": {},
   "outputs": [],
   "source": [
    "for url in df['URL']:\n",
    "    parts = url.split('https://github.com/')[1].split('/')\n",
    "    owner = parts[0]\n",
    "    repo = parts[1]\n",
    "\n",
    "    filename = f\"../data/commits/commits_{owner}_{repo}.json\"\n",
    "\n",
    "    load_issues(filename)    \n",
    "\n",
    "    print() # apenas para formatar a saida"
   ]
  }
 ],
 "metadata": {
  "kernelspec": {
   "display_name": "Python 3",
   "language": "python",
   "name": "python3"
  },
  "language_info": {
   "codemirror_mode": {
    "name": "ipython",
    "version": 3
   },
   "file_extension": ".py",
   "mimetype": "text/x-python",
   "name": "python",
   "nbconvert_exporter": "python",
   "pygments_lexer": "ipython3",
   "version": "3.12.7"
  }
 },
 "nbformat": 4,
 "nbformat_minor": 2
}
