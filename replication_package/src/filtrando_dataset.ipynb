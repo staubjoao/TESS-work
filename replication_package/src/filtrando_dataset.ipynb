{
 "cells": [
  {
   "cell_type": "code",
   "execution_count": 7,
   "metadata": {},
   "outputs": [],
   "source": [
    "import pandas as pd\n",
    "from dotenv import load_dotenv\n",
    "import os\n",
    "import requests\n",
    "import json\n",
    "import numpy as np"
   ]
  },
  {
   "cell_type": "code",
   "execution_count": null,
   "metadata": {},
   "outputs": [],
   "source": [
    "load_dotenv()\n",
    "\n",
    "token = os.getenv('TOKEN')\n",
    "\n",
    "import sys\n",
    "#print paths\n",
    "sys.path.append('..')\n",
    "print(sys.path)\n",
    "df = pd.read_csv(\"dataset/dataset.csv\", delimiter=';')"
   ]
  },
  {
   "cell_type": "code",
   "execution_count": 4,
   "metadata": {},
   "outputs": [
    {
     "data": {
      "text/plain": [
       "(378, 49)"
      ]
     },
     "execution_count": 4,
     "metadata": {},
     "output_type": "execute_result"
    }
   ],
   "source": [
    "df.shape"
   ]
  },
  {
   "cell_type": "code",
   "execution_count": 8,
   "metadata": {},
   "outputs": [],
   "source": [
    "df_filtrado = df[df['Archived'] == 'No']\n",
    "\n",
    "print(df_filtrado.shape  )\n",
    "\n"
   ]
  },
  {
   "cell_type": "code",
   "execution_count": null,
   "metadata": {},
   "outputs": [],
   "source": [
    "df_filtrado = df_filtrado[df_filtrado['Application Purpose'] == 'Production ready']"
   ]
  },
  {
   "cell_type": "code",
   "execution_count": 9,
   "metadata": {},
   "outputs": [
    {
     "data": {
      "text/plain": [
       "(284, 49)"
      ]
     },
     "execution_count": 9,
     "metadata": {},
     "output_type": "execute_result"
    }
   ],
   "source": [
    "df_filtrado.shape"
   ]
  },
  {
   "cell_type": "code",
   "execution_count": 12,
   "metadata": {},
   "outputs": [
    {
     "name": "stdout",
     "output_type": "stream",
     "text": [
      "[{'index': 1, 'quantidade': 0}, {'index': 2, 'quantidade': 0}, {'index': 3, 'quantidade': 3737}, {'index': 4, 'quantidade': 2454}, {'index': 5, 'quantidade': 87}, {'index': 6, 'quantidade': 0}, {'index': 7, 'quantidade': 0}, {'index': 8, 'erro': \"Could not resolve to a Repository with the name 'incognitochain/incognito-chain'.\"}, {'index': 9, 'quantidade': 6642}, {'index': 10, 'quantidade': 1389}, {'index': 11, 'quantidade': 1908}, {'index': 12, 'quantidade': 11079}, {'index': 13, 'quantidade': 0}, {'index': 14, 'quantidade': 834}, {'index': 15, 'quantidade': 0}, {'index': 16, 'quantidade': 2503}, {'index': 17, 'quantidade': 2523}, {'index': 18, 'quantidade': 3801}, {'index': 19, 'quantidade': 485}, {'index': 20, 'quantidade': 3243}, {'index': 21, 'quantidade': 2426}, {'index': 22, 'quantidade': 1425}, {'index': 24, 'quantidade': 4850}, {'index': 25, 'quantidade': 2347}, {'index': 26, 'quantidade': 79}, {'index': 27, 'quantidade': 1020}, {'index': 28, 'quantidade': 3307}, {'index': 29, 'quantidade': 3}, {'index': 30, 'quantidade': 1}, {'index': 32, 'quantidade': 1507}, {'index': 33, 'quantidade': 535}, {'index': 34, 'quantidade': 296}, {'index': 35, 'quantidade': 46}, {'index': 36, 'quantidade': 1651}, {'index': 37, 'quantidade': 45}, {'index': 38, 'quantidade': 326}, {'index': 39, 'quantidade': 23}, {'index': 40, 'quantidade': 0}, {'index': 41, 'quantidade': 0}, {'index': 42, 'quantidade': 39}, {'index': 43, 'quantidade': 2}, {'index': 44, 'quantidade': 1207}, {'index': 45, 'quantidade': 1673}, {'index': 46, 'quantidade': 0}, {'index': 47, 'quantidade': 2828}, {'index': 48, 'quantidade': 1461}, {'index': 50, 'quantidade': 2667}, {'index': 51, 'quantidade': 2680}, {'index': 52, 'quantidade': 819}, {'index': 53, 'quantidade': 302}, {'index': 54, 'quantidade': 795}, {'index': 55, 'quantidade': 3005}, {'index': 56, 'quantidade': 1243}, {'index': 57, 'quantidade': 85}, {'index': 58, 'quantidade': 1142}, {'index': 59, 'quantidade': 1027}, {'index': 60, 'quantidade': 4}, {'index': 61, 'quantidade': 305}, {'index': 62, 'quantidade': 0}, {'index': 63, 'quantidade': 2}, {'index': 64, 'quantidade': 446}, {'index': 65, 'quantidade': 1559}, {'index': 66, 'quantidade': 1561}, {'index': 67, 'quantidade': 50}, {'index': 68, 'quantidade': 379}, {'index': 69, 'quantidade': 1232}, {'index': 70, 'quantidade': 589}, {'index': 72, 'quantidade': 757}, {'index': 73, 'quantidade': 3}, {'index': 74, 'quantidade': 968}, {'index': 75, 'quantidade': 1194}, {'index': 76, 'quantidade': 0}, {'index': 77, 'quantidade': 20}, {'index': 78, 'quantidade': 452}, {'index': 79, 'quantidade': 4}, {'index': 80, 'quantidade': 3776}, {'index': 81, 'quantidade': 262}, {'index': 82, 'quantidade': 1048}, {'index': 83, 'quantidade': 947}, {'index': 84, 'quantidade': 333}, {'index': 85, 'quantidade': 1887}, {'index': 86, 'quantidade': 1}, {'index': 87, 'quantidade': 1}, {'index': 88, 'quantidade': 3007}, {'index': 89, 'quantidade': 598}, {'index': 90, 'quantidade': 13}, {'index': 91, 'quantidade': 1737}, {'index': 92, 'quantidade': 544}, {'index': 93, 'quantidade': 195}, {'index': 94, 'quantidade': 16}, {'index': 95, 'quantidade': 30}, {'index': 98, 'quantidade': 161}, {'index': 99, 'quantidade': 0}, {'index': 101, 'quantidade': 181}, {'index': 102, 'quantidade': 15}, {'index': 104, 'quantidade': 0}, {'index': 105, 'quantidade': 1407}, {'index': 106, 'quantidade': 5}, {'index': 107, 'quantidade': 32}, {'index': 108, 'quantidade': 0}, {'index': 109, 'quantidade': 0}, {'index': 110, 'quantidade': 172}, {'index': 112, 'quantidade': 307}, {'index': 113, 'quantidade': 184}, {'index': 114, 'quantidade': 254}, {'index': 116, 'quantidade': 558}, {'index': 117, 'quantidade': 102}, {'index': 118, 'quantidade': 0}, {'index': 119, 'quantidade': 85}, {'index': 120, 'quantidade': 0}, {'index': 122, 'quantidade': 224}, {'index': 123, 'quantidade': 2}, {'index': 124, 'quantidade': 36}, {'index': 125, 'quantidade': 0}, {'index': 126, 'quantidade': 2}, {'index': 127, 'quantidade': 4}, {'index': 128, 'quantidade': 93}, {'index': 129, 'quantidade': 115}, {'index': 130, 'quantidade': 133}, {'index': 131, 'quantidade': 50}, {'index': 132, 'quantidade': 52}, {'index': 133, 'quantidade': 80}, {'index': 134, 'quantidade': 45}, {'index': 135, 'quantidade': 418}, {'index': 136, 'quantidade': 1755}, {'index': 137, 'quantidade': 1}, {'index': 138, 'quantidade': 133}, {'index': 139, 'quantidade': 76}, {'index': 140, 'quantidade': 10}, {'index': 141, 'quantidade': 165}, {'index': 142, 'quantidade': 12}, {'index': 143, 'quantidade': 120}, {'index': 145, 'quantidade': 77}, {'index': 147, 'quantidade': 0}, {'index': 148, 'quantidade': 57}, {'index': 149, 'quantidade': 225}, {'index': 150, 'quantidade': 0}, {'index': 152, 'quantidade': 37}, {'index': 154, 'quantidade': 92}, {'index': 155, 'quantidade': 64}, {'index': 156, 'quantidade': 617}, {'index': 157, 'quantidade': 31}, {'index': 159, 'quantidade': 203}, {'index': 160, 'quantidade': 57}, {'index': 161, 'quantidade': 22}, {'index': 162, 'quantidade': 7}, {'index': 163, 'quantidade': 112}, {'index': 164, 'quantidade': 65}, {'index': 165, 'quantidade': 37}, {'index': 167, 'quantidade': 109}, {'index': 168, 'quantidade': 43}, {'index': 169, 'quantidade': 183}, {'index': 171, 'quantidade': 1}, {'index': 172, 'quantidade': 7}, {'index': 173, 'quantidade': 1}, {'index': 174, 'quantidade': 315}, {'index': 175, 'quantidade': 0}, {'index': 176, 'quantidade': 7}, {'index': 177, 'quantidade': 61}, {'index': 179, 'quantidade': 82}, {'index': 181, 'quantidade': 18}, {'index': 182, 'quantidade': 0}, {'index': 183, 'erro': \"Could not resolve to a Repository with the name 'gfunkmonk/cloudpebble'.\"}, {'index': 185, 'quantidade': 6}, {'index': 186, 'quantidade': 1}, {'index': 187, 'quantidade': 26}, {'index': 188, 'quantidade': 127}, {'index': 189, 'quantidade': 0}, {'index': 190, 'quantidade': 0}, {'index': 191, 'quantidade': 80}, {'index': 192, 'quantidade': 39}, {'index': 193, 'quantidade': 0}, {'index': 194, 'quantidade': 156}, {'index': 197, 'quantidade': 108}, {'index': 198, 'quantidade': 0}, {'index': 199, 'quantidade': 11}, {'index': 201, 'quantidade': 64}, {'index': 202, 'quantidade': 65}, {'index': 205, 'quantidade': 3}, {'index': 206, 'quantidade': 75}, {'index': 207, 'quantidade': 16}, {'index': 208, 'quantidade': 15}, {'index': 209, 'quantidade': 58}, {'index': 210, 'quantidade': 10}, {'index': 211, 'quantidade': 16}, {'index': 212, 'quantidade': 16}, {'index': 214, 'quantidade': 0}, {'index': 217, 'quantidade': 0}, {'index': 219, 'quantidade': 0}, {'index': 220, 'quantidade': 55}, {'index': 221, 'quantidade': 0}, {'index': 222, 'quantidade': 79}, {'index': 223, 'quantidade': 0}, {'index': 224, 'quantidade': 41}, {'index': 225, 'quantidade': 121}, {'index': 226, 'quantidade': 21}, {'index': 227, 'quantidade': 11}, {'index': 228, 'quantidade': 11}, {'index': 229, 'quantidade': 0}, {'index': 230, 'quantidade': 19}, {'index': 231, 'quantidade': 0}, {'index': 232, 'quantidade': 304}, {'index': 234, 'quantidade': 0}, {'index': 235, 'quantidade': 0}, {'index': 236, 'quantidade': 21}, {'index': 237, 'quantidade': 7}, {'index': 238, 'quantidade': 207}, {'index': 241, 'quantidade': 3}, {'index': 242, 'quantidade': 2}, {'index': 243, 'quantidade': 29}, {'index': 244, 'quantidade': 5}, {'index': 245, 'quantidade': 17}, {'index': 246, 'quantidade': 1}, {'index': 248, 'quantidade': 81}, {'index': 249, 'quantidade': 6}, {'index': 250, 'quantidade': 0}, {'index': 251, 'quantidade': 0}, {'index': 253, 'quantidade': 59}, {'index': 256, 'quantidade': 0}, {'index': 257, 'quantidade': 109}, {'index': 258, 'quantidade': 30}, {'index': 259, 'quantidade': 50}, {'index': 260, 'quantidade': 77}, {'index': 261, 'quantidade': 1}, {'index': 263, 'quantidade': 21}, {'index': 270, 'quantidade': 3}, {'index': 271, 'quantidade': 17}, {'index': 272, 'quantidade': 0}, {'index': 273, 'quantidade': 44}, {'index': 278, 'quantidade': 1}, {'index': 279, 'erro': \"Could not resolve to a Repository with the name 'Financial-Times/native-ingester'.\"}, {'index': 280, 'quantidade': 0}, {'index': 282, 'quantidade': 14}, {'index': 284, 'quantidade': 13}, {'index': 285, 'quantidade': 0}, {'index': 286, 'quantidade': 45}, {'index': 288, 'quantidade': 122}, {'index': 289, 'quantidade': 19}, {'index': 292, 'quantidade': 0}, {'index': 294, 'quantidade': 82}, {'index': 297, 'quantidade': 1}, {'index': 298, 'quantidade': 7}, {'index': 300, 'quantidade': 10}, {'index': 304, 'quantidade': 1}, {'index': 305, 'quantidade': 65}, {'index': 307, 'quantidade': 81}, {'index': 308, 'quantidade': 30}, {'index': 310, 'quantidade': 22}, {'index': 313, 'quantidade': 0}, {'index': 315, 'quantidade': 25}, {'index': 317, 'quantidade': 0}, {'index': 318, 'quantidade': 0}, {'index': 322, 'quantidade': 2}, {'index': 323, 'quantidade': 25}, {'index': 330, 'quantidade': 6}, {'index': 331, 'quantidade': 28}, {'index': 333, 'quantidade': 9}, {'index': 336, 'quantidade': 0}, {'index': 337, 'quantidade': 0}, {'index': 338, 'quantidade': 50}, {'index': 339, 'quantidade': 0}, {'index': 341, 'quantidade': 11}, {'index': 342, 'quantidade': 0}, {'index': 343, 'quantidade': 4}, {'index': 344, 'quantidade': 2}, {'index': 345, 'quantidade': 0}, {'index': 346, 'quantidade': 1675}, {'index': 347, 'quantidade': 13}, {'index': 349, 'quantidade': 0}, {'index': 350, 'quantidade': 10}, {'index': 355, 'quantidade': 1}, {'index': 358, 'quantidade': 8}, {'index': 360, 'quantidade': 0}, {'index': 363, 'quantidade': 0}, {'index': 364, 'quantidade': 0}, {'index': 366, 'quantidade': 2}, {'index': 368, 'quantidade': 5}, {'index': 369, 'quantidade': 74}, {'index': 371, 'quantidade': 1}, {'index': 372, 'quantidade': 0}, {'index': 374, 'quantidade': 0}, {'index': 375, 'quantidade': 695}, {'index': 376, 'quantidade': 0}, {'index': 377, 'quantidade': 0}]\n"
     ]
    }
   ],
   "source": [
    "total_closed_issues_list = []\n",
    "\n",
    "url = \"https://api.github.com/graphql\"\n",
    "headers = {\n",
    "    \"Accept\": \"application/vnd.github+json\",\n",
    "    \"Authorization\": f\"Bearer {token}\",\n",
    "    \"X-GitHub-Api-Version\": \"2022-11-28\"\n",
    "}\n",
    "\n",
    "for index, row in df_filtrado.iterrows():\n",
    "    urlRepo = row['URL']\n",
    "\n",
    "    parts = urlRepo.split('https://github.com/')[1].split('/')\n",
    "    owner = parts[0]\n",
    "    repo = parts[1]\n",
    "\n",
    "    query = f\"\"\"\n",
    "    {{\n",
    "        repository(owner: \"{owner}\", name: \"{repo}\") {{\n",
    "            issues(states: CLOSED) {{\n",
    "                totalCount\n",
    "            }}\n",
    "        }}\n",
    "    }}\n",
    "    \"\"\"\n",
    "\n",
    "    payload = {\n",
    "        \"query\": query\n",
    "    }\n",
    "\n",
    "    try:\n",
    "        response = requests.post(url, json=payload, headers=headers)\n",
    "\n",
    "        if response.status_code == 200:\n",
    "            data = response.json()\n",
    "\n",
    "            if data['data']['repository'] is not None:\n",
    "                total_closed_issues = data['data']['repository']['issues']['totalCount']\n",
    "                total_closed_issues_list.append({\n",
    "                    'index': index,\n",
    "                    'quantidade': total_closed_issues\n",
    "                })\n",
    "            else:\n",
    "                error_message = data['errors'][0]['message']\n",
    "                total_closed_issues_list.append({\n",
    "                    'index': index,\n",
    "                    'erro': error_message\n",
    "                })\n",
    "        else:\n",
    "            total_closed_issues_list.append({\n",
    "                'index': index,\n",
    "                'erro': f\"Erro HTTP {response.status_code}: {response.text}\"\n",
    "            })\n",
    "\n",
    "    except Exception as e:\n",
    "        total_closed_issues_list.append({\n",
    "            'index': index,\n",
    "            'erro': str(e)\n",
    "        })\n",
    "\n",
    "print(total_closed_issues_list)"
   ]
  },
  {
   "cell_type": "code",
   "execution_count": 24,
   "metadata": {},
   "outputs": [],
   "source": [
    "valid_indexes = [item['index'] for item in total_closed_issues_list if 'erro' not in item]\n",
    "\n",
    "df_filtrado = df_filtrado[df_filtrado.index.isin(valid_indexes)]"
   ]
  },
  {
   "cell_type": "code",
   "execution_count": 27,
   "metadata": {},
   "outputs": [
    {
     "name": "stdout",
     "output_type": "stream",
     "text": [
      "Média das quantidades: 428.7864768683274\n",
      "Mediana das quantidades: 30.0\n",
      "Desvio padrão das quantidades: 1083.8161706555316\n"
     ]
    }
   ],
   "source": [
    "quantidades = [item['quantidade'] for item in total_closed_issues_list if 'quantidade' in item]\n",
    "\n",
    "media_quantidades_issues = np.mean(quantidades)\n",
    "mediana_quantidades_issues = np.median(quantidades)\n",
    "dp_quantidades_issues = np.std(quantidades)\n",
    "\n",
    "print(f\"Média das quantidades: {media_quantidades_issues}\")\n",
    "print(f\"Mediana das quantidades: {mediana_quantidades_issues}\")\n",
    "print(f\"Desvio padrão das quantidades: {dp_quantidades_issues}\")"
   ]
  },
  {
   "cell_type": "code",
   "execution_count": 29,
   "metadata": {},
   "outputs": [],
   "source": [
    "indexes_maior_que_media = [item['index'] for item in total_closed_issues_list if 'quantidade' in item and item['quantidade'] > media_quantidades_issues]\n",
    "\n",
    "df_filtrado = df_filtrado[df_filtrado.index.isin(indexes_maior_que_media)]"
   ]
  },
  {
   "cell_type": "code",
   "execution_count": 31,
   "metadata": {},
   "outputs": [
    {
     "data": {
      "text/plain": [
       "(56, 49)"
      ]
     },
     "execution_count": 31,
     "metadata": {},
     "output_type": "execute_result"
    }
   ],
   "source": [
    "df_filtrado.shape"
   ]
  },
  {
   "cell_type": "code",
   "execution_count": 33,
   "metadata": {},
   "outputs": [
    {
     "name": "stdout",
     "output_type": "stream",
     "text": [
      "Média da comunidade: 155.5\n",
      "Mediana da comunidade: 349.67857142857144\n",
      "Desvio padrão da comunidade: 728.4256025439786\n"
     ]
    }
   ],
   "source": [
    "mediana_community_size = df_filtrado['CommunitySize'].median()\n",
    "media_community_size = df_filtrado['CommunitySize'].mean()\n",
    "dp_community_size = df_filtrado['CommunitySize'].std()\n",
    "\n",
    "print(f\"Média da comunidade: {mediana_community_size}\")\n",
    "print(f\"Mediana da comunidade: {media_community_size}\")\n",
    "print(f\"Desvio padrão da comunidade: {dp_community_size}\")"
   ]
  },
  {
   "cell_type": "code",
   "execution_count": 34,
   "metadata": {},
   "outputs": [],
   "source": [
    "df_filtrado = df_filtrado[df_filtrado['CommunitySize'] > media_community_size]"
   ]
  },
  {
   "cell_type": "code",
   "execution_count": 35,
   "metadata": {},
   "outputs": [
    {
     "data": {
      "text/plain": [
       "(11, 49)"
      ]
     },
     "execution_count": 35,
     "metadata": {},
     "output_type": "execute_result"
    }
   ],
   "source": [
    "df_filtrado.shape"
   ]
  },
  {
   "cell_type": "code",
   "execution_count": 36,
   "metadata": {},
   "outputs": [],
   "source": [
    "df_filtrado.to_csv('dataset_filtrado.csv', index=False,  sep=';')"
   ]
  }
 ],
 "metadata": {
  "kernelspec": {
   "display_name": "Python 3",
   "language": "python",
   "name": "python3"
  },
  "language_info": {
   "codemirror_mode": {
    "name": "ipython",
    "version": 3
   },
   "file_extension": ".py",
   "mimetype": "text/x-python",
   "name": "python",
   "nbconvert_exporter": "python",
   "pygments_lexer": "ipython3",
   "version": "3.10.12"
  }
 },
 "nbformat": 4,
 "nbformat_minor": 2
}
